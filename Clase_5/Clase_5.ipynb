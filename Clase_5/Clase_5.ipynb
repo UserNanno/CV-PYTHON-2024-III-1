{
 "cells": [
  {
   "cell_type": "markdown",
   "id": "bfb136d7-2cab-48b8-a6d1-e774c9c40f42",
   "metadata": {},
   "source": [
    "# Librerias Importadas"
   ]
  },
  {
   "cell_type": "code",
   "execution_count": 35,
   "id": "7c0ae154-7b86-4c88-a0d0-3b95e571fcb6",
   "metadata": {},
   "outputs": [],
   "source": [
    "import requests # Realizar solicitudes HTTP\n",
    "from bs4 import BeautifulSoup"
   ]
  },
  {
   "cell_type": "markdown",
   "id": "d711e89b-7d43-4893-bfad-fa6b5164c980",
   "metadata": {},
   "source": [
    "# Definición de la Búsqueda"
   ]
  },
  {
   "cell_type": "code",
   "execution_count": 46,
   "id": "9fdad808-fede-4b79-a708-6b2d999e4132",
   "metadata": {},
   "outputs": [],
   "source": [
    "# Definir nuestra palabra de búsqueda\n",
    "palabra = \"televisor\""
   ]
  },
  {
   "cell_type": "markdown",
   "id": "017cf07e-9721-476b-afa6-4f927310f511",
   "metadata": {},
   "source": [
    "# Construcción de la URL"
   ]
  },
  {
   "cell_type": "code",
   "execution_count": 47,
   "id": "037b2711-3b98-4ddd-bea0-d2e244fe3277",
   "metadata": {},
   "outputs": [],
   "source": [
    "url = \"https://www.amazon.com/s?k={}\".format(palabra)"
   ]
  },
  {
   "cell_type": "markdown",
   "id": "f49fb112-9783-4a5a-a297-d50bc8035840",
   "metadata": {},
   "source": [
    "# Encabezado de la solicitud HTTP"
   ]
  },
  {
   "cell_type": "code",
   "execution_count": 48,
   "id": "5d3306fd-104e-4925-991d-c662193b6d57",
   "metadata": {},
   "outputs": [],
   "source": [
    "headers = {'Fuser': 'An', 'user-agent':'an'}"
   ]
  },
  {
   "cell_type": "markdown",
   "id": "b379e0f7-52ed-4a1f-9041-bd6a7d85eb3b",
   "metadata": {},
   "source": [
    "# Solicitud HTTTP a Amazon"
   ]
  },
  {
   "cell_type": "code",
   "execution_count": 49,
   "id": "d9111120-5a7d-4f63-846d-713821629b94",
   "metadata": {},
   "outputs": [
    {
     "data": {
      "text/plain": [
       "200"
      ]
     },
     "execution_count": 49,
     "metadata": {},
     "output_type": "execute_result"
    }
   ],
   "source": [
    "r = requests.get(url, headers=headers)\n",
    "r.status_code"
   ]
  },
  {
   "cell_type": "markdown",
   "id": "3da499b0-d63d-402d-92a2-04a7e9d8afbc",
   "metadata": {},
   "source": [
    "# Analizamos el HTML con BeautifulSoup"
   ]
  },
  {
   "cell_type": "code",
   "execution_count": 50,
   "id": "09a0039d-7135-4f58-b2d7-035ce7fbe57d",
   "metadata": {},
   "outputs": [],
   "source": [
    "soup = BeautifulSoup(r.content, 'html.parser')"
   ]
  },
  {
   "cell_type": "markdown",
   "id": "dac89b64-0ddd-4166-89ae-12b1365fb83c",
   "metadata": {},
   "source": [
    "# Encontrar el contenedor principal de los resultados requeridos"
   ]
  },
  {
   "cell_type": "code",
   "execution_count": 51,
   "id": "310cb9b1-4768-4689-9419-8beb94aaff72",
   "metadata": {},
   "outputs": [],
   "source": [
    "urls = soup.find('div', attrs={\"class\":\"s-main-slot s-result-list s-search-results sg-row\"})"
   ]
  },
  {
   "cell_type": "code",
   "execution_count": 52,
   "id": "16a4ab6a-10ae-486b-a10a-7621959c8137",
   "metadata": {},
   "outputs": [],
   "source": [
    "urls = soup.find_all('a', attrs={\"class\":\"a-link-normal s-underline-text s-underline-link-text s-link-style a-text-normal\"})"
   ]
  },
  {
   "cell_type": "markdown",
   "id": "f2dd7d14-408f-4051-aef9-8d1cdd53a11d",
   "metadata": {},
   "source": [
    "# Construccion de URLs completas"
   ]
  },
  {
   "cell_type": "code",
   "execution_count": 53,
   "id": "84251e2a-e6dc-4e68-9890-1ba1af294e1e",
   "metadata": {},
   "outputs": [],
   "source": [
    "urls = [\"https://www.amazon.com/\" + i.get('href') for i in urls[:5]]"
   ]
  },
  {
   "cell_type": "code",
   "execution_count": 54,
   "id": "c89805a7-bb10-4b85-a88b-5884b2c67ac8",
   "metadata": {},
   "outputs": [
    {
     "data": {
      "text/plain": [
       "['https://www.amazon.com//VIZIO-40-inch-1080p-Virtual-Built/dp/B0CXG3HMX1/ref=sr_1_1?dib=eyJ2IjoiMSJ9.NzBgtRLjW0L_3ybtz4LPwX_TlwOf1of-2CeyE1-PmFXQC5g2sCZJXLCyzzB977pX9Pc2zlTJ9eIO_HdMR8FeEFmVJi_SgC8vkyqGrKmVRIYWyB8BojfHkyi4SVjy_c0CcgfVcHJ615ZW5OwqqZwh_39CJf8KLssmHzOolt50H0aowLQ-Hds4TV8BQClSeURe99TVvvaFyV_lRu_ePG9xhWh0zufqdw9hFgUjyd9mPvo.YUqyDqCUbYsVXk10RlKUd2s2dGGNsQ0IFWyK-vluyFs&dib_tag=se&keywords=televisor&qid=1726102345&sr=8-1',\n",
       " 'https://www.amazon.com//SAMSUNG-Tracking-Xcelerator-Q-Symphony-UN55DU7200/dp/B0CVS183ZP/ref=sr_1_2?dib=eyJ2IjoiMSJ9.NzBgtRLjW0L_3ybtz4LPwX_TlwOf1of-2CeyE1-PmFXQC5g2sCZJXLCyzzB977pX9Pc2zlTJ9eIO_HdMR8FeEFmVJi_SgC8vkyqGrKmVRIYWyB8BojfHkyi4SVjy_c0CcgfVcHJ615ZW5OwqqZwh_39CJf8KLssmHzOolt50H0aowLQ-Hds4TV8BQClSeURe99TVvvaFyV_lRu_ePG9xhWh0zufqdw9hFgUjyd9mPvo.YUqyDqCUbYsVXk10RlKUd2s2dGGNsQ0IFWyK-vluyFs&dib_tag=se&keywords=televisor&qid=1726102345&sr=8-2',\n",
       " 'https://www.amazon.com//Hisense-40-Inch-Google-40A4K-Built/dp/B0C7VBWHLQ/ref=sr_1_3?dib=eyJ2IjoiMSJ9.NzBgtRLjW0L_3ybtz4LPwX_TlwOf1of-2CeyE1-PmFXQC5g2sCZJXLCyzzB977pX9Pc2zlTJ9eIO_HdMR8FeEFmVJi_SgC8vkyqGrKmVRIYWyB8BojfHkyi4SVjy_c0CcgfVcHJ615ZW5OwqqZwh_39CJf8KLssmHzOolt50H0aowLQ-Hds4TV8BQClSeURe99TVvvaFyV_lRu_ePG9xhWh0zufqdw9hFgUjyd9mPvo.YUqyDqCUbYsVXk10RlKUd2s2dGGNsQ0IFWyK-vluyFs&dib_tag=se&keywords=televisor&qid=1726102345&sr=8-3',\n",
       " 'https://www.amazon.com//VIZIO-Chromecast-Mirroring-Streaming-Channels/dp/B094RKDNMZ/ref=sr_1_4?dib=eyJ2IjoiMSJ9.NzBgtRLjW0L_3ybtz4LPwX_TlwOf1of-2CeyE1-PmFXQC5g2sCZJXLCyzzB977pX9Pc2zlTJ9eIO_HdMR8FeEFmVJi_SgC8vkyqGrKmVRIYWyB8BojfHkyi4SVjy_c0CcgfVcHJ615ZW5OwqqZwh_39CJf8KLssmHzOolt50H0aowLQ-Hds4TV8BQClSeURe99TVvvaFyV_lRu_ePG9xhWh0zufqdw9hFgUjyd9mPvo.YUqyDqCUbYsVXk10RlKUd2s2dGGNsQ0IFWyK-vluyFs&dib_tag=se&keywords=televisor&qid=1726102345&sr=8-4',\n",
       " 'https://www.amazon.com//FPD-32-inch-Chromecast-Palette-CG32-P3/dp/B0CRRD2DV4/ref=sr_1_5?dib=eyJ2IjoiMSJ9.NzBgtRLjW0L_3ybtz4LPwX_TlwOf1of-2CeyE1-PmFXQC5g2sCZJXLCyzzB977pX9Pc2zlTJ9eIO_HdMR8FeEFmVJi_SgC8vkyqGrKmVRIYWyB8BojfHkyi4SVjy_c0CcgfVcHJ615ZW5OwqqZwh_39CJf8KLssmHzOolt50H0aowLQ-Hds4TV8BQClSeURe99TVvvaFyV_lRu_ePG9xhWh0zufqdw9hFgUjyd9mPvo.YUqyDqCUbYsVXk10RlKUd2s2dGGNsQ0IFWyK-vluyFs&dib_tag=se&keywords=televisor&qid=1726102345&sr=8-5']"
      ]
     },
     "execution_count": 54,
     "metadata": {},
     "output_type": "execute_result"
    }
   ],
   "source": [
    "urls"
   ]
  },
  {
   "cell_type": "code",
   "execution_count": null,
   "id": "b95d5848-40de-43f4-bdb3-dad21737e86c",
   "metadata": {},
   "outputs": [],
   "source": []
  }
 ],
 "metadata": {
  "kernelspec": {
   "display_name": "Python 3 (ipykernel)",
   "language": "python",
   "name": "python3"
  },
  "language_info": {
   "codemirror_mode": {
    "name": "ipython",
    "version": 3
   },
   "file_extension": ".py",
   "mimetype": "text/x-python",
   "name": "python",
   "nbconvert_exporter": "python",
   "pygments_lexer": "ipython3",
   "version": "3.12.4"
  }
 },
 "nbformat": 4,
 "nbformat_minor": 5
}
