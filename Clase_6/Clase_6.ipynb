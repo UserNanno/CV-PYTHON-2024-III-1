{
 "cells": [
  {
   "cell_type": "markdown",
   "id": "879be751-42fe-4ed2-9b7a-29462d4cff87",
   "metadata": {},
   "source": [
    "# PREPROCESAMIENTO DE DATOS"
   ]
  },
  {
   "cell_type": "markdown",
   "id": "fdc8d876-d5d0-4374-9b07-bfd681d01e1c",
   "metadata": {},
   "source": [
    "- ¿Qué es el preprocesamiento de datos?\n",
    "    * Es una etapa fundamental en cualquier proyecto de ML o Analisis de Datos.\n",
    "    * Consiste en transformar, limpiar y preparar los datos en bruto para que sean útiles y mantengan cierta calidad.\n",
    "    * Su objetivo principal de esta etapa es hacer que los datos sean compatibles con los modelos de ML, eliminar el ruido y\n",
    "    corregir posibles problemas en los registros.\n",
    "  \n",
    "- ¿Por qué es importante?\n",
    "    * Mantiene a raya los datos sucios\n",
    "    * Para satisfacer los requerimientos necesarios para aplicar un modelo de ML\n",
    "  \n",
    "- ¿Situaciones en las que es necesario?\n",
    "    * Cuando el dataset tiene muchas entradas o registros incorrectos (inconsistentes)\n",
    "    * Cuando haya muchos valores falantes, lo que afecta a la integridad del análisis\n",
    "    * Cuando los datos tienen outliers que distorsionan la interpretación de los resultados\n",
    "    * Cuando sea necesario transformar variables categóricas en numéricas para que los algoritmos puedan usar el dataset\n",
    "  \n",
    "\n",
    "  "
   ]
  },
  {
   "cell_type": "markdown",
   "id": "fa6329dd-7edd-4556-92d2-829d3d9a805c",
   "metadata": {},
   "source": [
    "# ANÁLISIS EXPLORATORIO DE LOS DATOS (EDA)"
   ]
  },
  {
   "cell_type": "markdown",
   "id": "66265643-bebb-4e0c-ab3a-a5414dd7e2d2",
   "metadata": {},
   "source": [
    "- ¿Qué es?\n",
    "  * Es la primera etapa que se realiza despues de cargar el dataset.\n",
    "  * Su objetivo es obtener una vista general de los datos, explorar sus características y detectar posibles problemas, como valores faltantes o distribuciones extrañas\n",
    "- ¿Por qué es imporante?\n",
    "  * Conocer la estructura y naturaleza de los datos\n",
    "  * Identificar los patrones o relaciones entre las variables\n",
    "  * Detectar los errores o valores anómalos (outliers)\n",
    "  * Identificar las variables que son más relevantes para el análisis posterior\n",
    "- ¿Cuándo debemos hacerlo?\n",
    "  * Siempre que nosotros recibamos un nuevo conjunto de datos (dataset). Se considera una buena práctica hacerlo antes de aplicar cualquier técnica de modelado, ya que nos permite tomar \"decisiones informadas\" sobre qué transformaciones necesitamos aplicar a los datos"
   ]
  },
  {
   "cell_type": "code",
   "execution_count": 2,
   "id": "d59646bc-1fce-430d-8d0d-6c9404e9da3c",
   "metadata": {},
   "outputs": [
    {
     "data": {
      "text/html": [
       "<div>\n",
       "<style scoped>\n",
       "    .dataframe tbody tr th:only-of-type {\n",
       "        vertical-align: middle;\n",
       "    }\n",
       "\n",
       "    .dataframe tbody tr th {\n",
       "        vertical-align: top;\n",
       "    }\n",
       "\n",
       "    .dataframe thead th {\n",
       "        text-align: right;\n",
       "    }\n",
       "</style>\n",
       "<table border=\"1\" class=\"dataframe\">\n",
       "  <thead>\n",
       "    <tr style=\"text-align: right;\">\n",
       "      <th></th>\n",
       "      <th>CODIGO ESTACION</th>\n",
       "      <th>ESTACION</th>\n",
       "      <th>ANO</th>\n",
       "      <th>MES</th>\n",
       "      <th>DIA</th>\n",
       "      <th>HORA</th>\n",
       "      <th>PM 10</th>\n",
       "      <th>PM 2.5</th>\n",
       "      <th>SO2</th>\n",
       "      <th>NO2</th>\n",
       "      <th>O3</th>\n",
       "      <th>CO</th>\n",
       "    </tr>\n",
       "  </thead>\n",
       "  <tbody>\n",
       "    <tr>\n",
       "      <th>0</th>\n",
       "      <td>112192</td>\n",
       "      <td>ATE</td>\n",
       "      <td>2010</td>\n",
       "      <td>4</td>\n",
       "      <td>1</td>\n",
       "      <td>0</td>\n",
       "      <td>NaN</td>\n",
       "      <td>NaN</td>\n",
       "      <td>39.8</td>\n",
       "      <td>NaN</td>\n",
       "      <td>NaN</td>\n",
       "      <td>NaN</td>\n",
       "    </tr>\n",
       "    <tr>\n",
       "      <th>1</th>\n",
       "      <td>112192</td>\n",
       "      <td>ATE</td>\n",
       "      <td>2010</td>\n",
       "      <td>4</td>\n",
       "      <td>1</td>\n",
       "      <td>1</td>\n",
       "      <td>135.69</td>\n",
       "      <td>NaN</td>\n",
       "      <td>29.9</td>\n",
       "      <td>47.2</td>\n",
       "      <td>NaN</td>\n",
       "      <td>NaN</td>\n",
       "    </tr>\n",
       "    <tr>\n",
       "      <th>2</th>\n",
       "      <td>112192</td>\n",
       "      <td>ATE</td>\n",
       "      <td>2010</td>\n",
       "      <td>4</td>\n",
       "      <td>1</td>\n",
       "      <td>2</td>\n",
       "      <td>135.84</td>\n",
       "      <td>NaN</td>\n",
       "      <td>26.5</td>\n",
       "      <td>44.1</td>\n",
       "      <td>NaN</td>\n",
       "      <td>NaN</td>\n",
       "    </tr>\n",
       "    <tr>\n",
       "      <th>3</th>\n",
       "      <td>112192</td>\n",
       "      <td>ATE</td>\n",
       "      <td>2010</td>\n",
       "      <td>4</td>\n",
       "      <td>1</td>\n",
       "      <td>3</td>\n",
       "      <td>119.06</td>\n",
       "      <td>NaN</td>\n",
       "      <td>25.9</td>\n",
       "      <td>41.4</td>\n",
       "      <td>NaN</td>\n",
       "      <td>NaN</td>\n",
       "    </tr>\n",
       "    <tr>\n",
       "      <th>4</th>\n",
       "      <td>112192</td>\n",
       "      <td>ATE</td>\n",
       "      <td>2010</td>\n",
       "      <td>4</td>\n",
       "      <td>1</td>\n",
       "      <td>4</td>\n",
       "      <td>104.95</td>\n",
       "      <td>NaN</td>\n",
       "      <td>23.3</td>\n",
       "      <td>40.5</td>\n",
       "      <td>NaN</td>\n",
       "      <td>NaN</td>\n",
       "    </tr>\n",
       "  </tbody>\n",
       "</table>\n",
       "</div>"
      ],
      "text/plain": [
       "   CODIGO ESTACION ESTACION   ANO  MES  DIA  HORA   PM 10  PM 2.5   SO2   NO2  \\\n",
       "0           112192      ATE  2010    4    1     0     NaN     NaN  39.8   NaN   \n",
       "1           112192      ATE  2010    4    1     1  135.69     NaN  29.9  47.2   \n",
       "2           112192      ATE  2010    4    1     2  135.84     NaN  26.5  44.1   \n",
       "3           112192      ATE  2010    4    1     3  119.06     NaN  25.9  41.4   \n",
       "4           112192      ATE  2010    4    1     4  104.95     NaN  23.3  40.5   \n",
       "\n",
       "   O3  CO  \n",
       "0 NaN NaN  \n",
       "1 NaN NaN  \n",
       "2 NaN NaN  \n",
       "3 NaN NaN  \n",
       "4 NaN NaN  "
      ]
     },
     "execution_count": 2,
     "metadata": {},
     "output_type": "execute_result"
    }
   ],
   "source": [
    "import pandas as pd\n",
    "# Cargar el dataset (CSV)\n",
    "df = pd.read_csv('Dataset/datos_horarios_contaminacion_lima.csv')\n",
    "df.head() # Muestra los 5 primeros registros del DataFrame"
   ]
  },
  {
   "cell_type": "markdown",
   "id": "c0d698f0-48f1-4f29-a2a8-19d8755eb00e",
   "metadata": {},
   "source": [
    "## RESUMEN ESTADISTICOS DE LOS DATOS"
   ]
  },
  {
   "cell_type": "markdown",
   "id": "a5a99126-ddfd-4174-a6a7-529f5050b085",
   "metadata": {},
   "source": [
    "- ¿Qué es un resumen estadístico?\n",
    "  * Viene a ser un conjunto de medidas que describen las caractéristicas principales de los datos, como la media, mediana, los cuartiles, la desviación estándar, entre otros.\n",
    "- ¿Por qué es importante?\n",
    "  * Detectar errores -> En algunas situaciones, los valores máximos o mínimos son muy inusuales, lo que indica posibles errores o outliers.\n",
    "  * Conocer la dispersión de los datos -> La desviación estándar nos va a indicar que tan dispersos están los datos, lo cual es importante para detectar variables que tienen valores atípicos (no esperados).\n",
    "  * Conocer la distribución de los datos -> Vamos a poder determinar si los datos siguen una distrubición normal o si están sesgados\n",
    "- ¿Cuándo debemos utilizarlo?\n",
    "  * Después de cargar los datos, siempre pero siempre debemos generar un resumen estadístico para detectar las anomalías y tener una idea clara de cómo se distribuyen las variables numéricas"
   ]
  },
  {
   "cell_type": "code",
   "execution_count": 10,
   "id": "370334dd-1275-479e-a9fc-ed3dd6a13396",
   "metadata": {},
   "outputs": [
    {
     "data": {
      "text/plain": [
       "CODIGO ESTACION      int64\n",
       "ESTACION            object\n",
       "ANO                  int64\n",
       "MES                  int64\n",
       "DIA                  int64\n",
       "HORA                 int64\n",
       "PM 10              float64\n",
       "PM 2.5             float64\n",
       "SO2                float64\n",
       "NO2                float64\n",
       "O3                 float64\n",
       "CO                 float64\n",
       "dtype: object"
      ]
     },
     "execution_count": 10,
     "metadata": {},
     "output_type": "execute_result"
    }
   ],
   "source": [
    "# Vamos a poder conocer los tipos de datos de nuestras columnas\n",
    "df.dtypes"
   ]
  },
  {
   "cell_type": "code",
   "execution_count": 21,
   "id": "d19833f6-fc13-4100-abc2-7dce6265ccc0",
   "metadata": {},
   "outputs": [
    {
     "name": "stdout",
     "output_type": "stream",
     "text": [
      "(703056, 12)\n"
     ]
    }
   ],
   "source": [
    "# Contabilizar la cantidad de filas y columnas en nuestro dataset (DataFrame)\n",
    "print(df.shape) "
   ]
  },
  {
   "cell_type": "code",
   "execution_count": 22,
   "id": "0798766e-1d03-47b7-8d17-591fb6275836",
   "metadata": {},
   "outputs": [
    {
     "name": "stdout",
     "output_type": "stream",
     "text": [
      "703056\n"
     ]
    }
   ],
   "source": [
    "print(len(df)) # Cantidad de filas/registros en el dataset"
   ]
  },
  {
   "cell_type": "code",
   "execution_count": 23,
   "id": "fa96624b-a7e7-476d-9abd-69887a9a80cd",
   "metadata": {},
   "outputs": [
    {
     "name": "stdout",
     "output_type": "stream",
     "text": [
      "CODIGO ESTACION    703056\n",
      "ESTACION           703056\n",
      "ANO                703056\n",
      "MES                703056\n",
      "DIA                703056\n",
      "HORA               703056\n",
      "PM 10              496684\n",
      "PM 2.5             339972\n",
      "SO2                294280\n",
      "NO2                351254\n",
      "O3                 348702\n",
      "CO                 321351\n",
      "dtype: int64\n"
     ]
    }
   ],
   "source": [
    "print(df.count()) # Contabilizar los valores no nulos por cada columna"
   ]
  },
  {
   "cell_type": "code",
   "execution_count": 27,
   "id": "160e833b-d3e2-47c9-8b59-0ebc17ab0e9f",
   "metadata": {},
   "outputs": [
    {
     "name": "stdout",
     "output_type": "stream",
     "text": [
      "ESTACION\n",
      "ATE                        92064\n",
      "SAN BORJA                  90600\n",
      "CAMPO DE MARTE             89136\n",
      "SANTA ANITA                81528\n",
      "VILLA MARIA DEL TRIUNFO    76704\n",
      "SAN MARTIN DE PORRES       57000\n",
      "CARABAYLLO                 57000\n",
      "PUENTE PIEDRA              56784\n",
      "SAN JUAN DE LURIGANCHO     56640\n",
      "HUACHIPA                   45600\n",
      "Name: count, dtype: int64\n"
     ]
    }
   ],
   "source": [
    "# Contabilizar la frecuencia de cada valor único en una columna\n",
    "print(df['ESTACION'].value_counts())"
   ]
  },
  {
   "cell_type": "code",
   "execution_count": 6,
   "id": "3fa1b237-b12c-4012-8ecb-42668ffc7980",
   "metadata": {},
   "outputs": [
    {
     "name": "stdout",
     "output_type": "stream",
     "text": [
      "       CODIGO ESTACION            ANO            MES            DIA  \\\n",
      "count    703056.000000  703056.000000  703056.000000  703056.000000   \n",
      "mean     112068.923124    2015.932819       6.517615      15.739763   \n",
      "std         344.972229       2.653019       3.387901       8.800307   \n",
      "min      111286.000000    2010.000000       1.000000       1.000000   \n",
      "25%      112192.000000    2014.000000       4.000000       8.000000   \n",
      "50%      112194.000000    2016.000000       7.000000      16.000000   \n",
      "75%      112233.000000    2018.000000       9.000000      23.000000   \n",
      "max      112267.000000    2020.000000      12.000000      31.000000   \n",
      "\n",
      "                HORA          PM 10         PM 2.5            SO2  \\\n",
      "count  703056.000000  496684.000000  339972.000000  294280.000000   \n",
      "mean       11.500000      79.102144      26.354007      12.522626   \n",
      "std         6.922191      54.458541      17.696484      13.214153   \n",
      "min         0.000000       5.000000       1.730000       0.100000   \n",
      "25%         5.750000      40.850000      14.520000       4.700000   \n",
      "50%        11.500000      66.760000      22.400000       8.400000   \n",
      "75%        17.250000     102.910000      33.400000      14.600000   \n",
      "max        23.000000    1442.420000     786.900000     257.800000   \n",
      "\n",
      "                 NO2             O3             CO  \n",
      "count  351254.000000  348702.000000  321351.000000  \n",
      "mean       27.398376      15.171218     880.982411  \n",
      "std        18.288326      15.566827     624.095297  \n",
      "min         0.000000       0.000000       0.100000  \n",
      "25%        14.500000       3.800000     442.300000  \n",
      "50%        24.000000       9.700000     756.500000  \n",
      "75%        36.200000      21.900000    1166.100000  \n",
      "max       231.200000     165.800000    5917.300000  \n"
     ]
    }
   ],
   "source": [
    "resumen = df.describe() # Solo incluye columnas numéricas\n",
    "print(resumen)"
   ]
  },
  {
   "cell_type": "code",
   "execution_count": 11,
   "id": "20b7e849-b4ad-4e6f-94ea-7edc2b101819",
   "metadata": {},
   "outputs": [
    {
     "name": "stdout",
     "output_type": "stream",
     "text": [
      "        CODIGO ESTACION ESTACION            ANO            MES            DIA  \\\n",
      "count     703056.000000   703056  703056.000000  703056.000000  703056.000000   \n",
      "unique              NaN       10            NaN            NaN            NaN   \n",
      "top                 NaN      ATE            NaN            NaN            NaN   \n",
      "freq                NaN    92064            NaN            NaN            NaN   \n",
      "mean      112068.923124      NaN    2015.932819       6.517615      15.739763   \n",
      "std          344.972229      NaN       2.653019       3.387901       8.800307   \n",
      "min       111286.000000      NaN    2010.000000       1.000000       1.000000   \n",
      "25%       112192.000000      NaN    2014.000000       4.000000       8.000000   \n",
      "50%       112194.000000      NaN    2016.000000       7.000000      16.000000   \n",
      "75%       112233.000000      NaN    2018.000000       9.000000      23.000000   \n",
      "max       112267.000000      NaN    2020.000000      12.000000      31.000000   \n",
      "\n",
      "                 HORA          PM 10         PM 2.5            SO2  \\\n",
      "count   703056.000000  496684.000000  339972.000000  294280.000000   \n",
      "unique            NaN            NaN            NaN            NaN   \n",
      "top               NaN            NaN            NaN            NaN   \n",
      "freq              NaN            NaN            NaN            NaN   \n",
      "mean        11.500000      79.102144      26.354007      12.522626   \n",
      "std          6.922191      54.458541      17.696484      13.214153   \n",
      "min          0.000000       5.000000       1.730000       0.100000   \n",
      "25%          5.750000      40.850000      14.520000       4.700000   \n",
      "50%         11.500000      66.760000      22.400000       8.400000   \n",
      "75%         17.250000     102.910000      33.400000      14.600000   \n",
      "max         23.000000    1442.420000     786.900000     257.800000   \n",
      "\n",
      "                  NO2             O3             CO  \n",
      "count   351254.000000  348702.000000  321351.000000  \n",
      "unique            NaN            NaN            NaN  \n",
      "top               NaN            NaN            NaN  \n",
      "freq              NaN            NaN            NaN  \n",
      "mean        27.398376      15.171218     880.982411  \n",
      "std         18.288326      15.566827     624.095297  \n",
      "min          0.000000       0.000000       0.100000  \n",
      "25%         14.500000       3.800000     442.300000  \n",
      "50%         24.000000       9.700000     756.500000  \n",
      "75%         36.200000      21.900000    1166.100000  \n",
      "max        231.200000     165.800000    5917.300000  \n"
     ]
    }
   ],
   "source": [
    "resumen_all = df.describe(include='all') # Incluye columnas numéricas y categóricas\n",
    "print(resumen_all)"
   ]
  },
  {
   "cell_type": "markdown",
   "id": "4fc62a6e-2191-488f-a84b-14c1bd5789a4",
   "metadata": {},
   "source": [
    "# DETECCIÓN Y MANEJO DE VALORES FALTANTES"
   ]
  },
  {
   "cell_type": "markdown",
   "id": "bf003147-0e9f-498a-a630-4d13ec53949f",
   "metadata": {},
   "source": [
    "- ¿Qué son los valores faltantes?\n",
    "  * Son aquellos casos en los que no tenemos datos disponibles en ciertas celdas o registros.\n",
    "  * Se representan comúnmente como NaN (Not a Number) en pandas\n",
    "- ¿Por qué es importante manejarlos?\n",
    "  * Porque estos puedes alterar el análisis, ya que muchos algoritmos no los aceptan o los tratan como ceros, lo que puede llevar a conclusiones erróneas\n",
    "  * Si es que no se tratan correctamente, pueden hacer que un modelo predictivo sea inexacto (de falsos resultados)\n",
    "- ¿Cuándo debemos hacerlo?\n",
    "  * Este paso es crucial antes de entrenar cualquier modelo o realizar análisis estadísticos, ya que la presencia de muchos valores nulos puede influir negativamente en los resultados"
   ]
  },
  {
   "cell_type": "code",
   "execution_count": 17,
   "id": "052015a3-2621-472e-9cb5-1b3d1720a75b",
   "metadata": {},
   "outputs": [
    {
     "data": {
      "text/html": [
       "<div>\n",
       "<style scoped>\n",
       "    .dataframe tbody tr th:only-of-type {\n",
       "        vertical-align: middle;\n",
       "    }\n",
       "\n",
       "    .dataframe tbody tr th {\n",
       "        vertical-align: top;\n",
       "    }\n",
       "\n",
       "    .dataframe thead th {\n",
       "        text-align: right;\n",
       "    }\n",
       "</style>\n",
       "<table border=\"1\" class=\"dataframe\">\n",
       "  <thead>\n",
       "    <tr style=\"text-align: right;\">\n",
       "      <th></th>\n",
       "      <th>CODIGO ESTACION</th>\n",
       "      <th>ESTACION</th>\n",
       "      <th>ANO</th>\n",
       "      <th>MES</th>\n",
       "      <th>DIA</th>\n",
       "      <th>HORA</th>\n",
       "      <th>PM 10</th>\n",
       "      <th>PM 2.5</th>\n",
       "      <th>SO2</th>\n",
       "      <th>NO2</th>\n",
       "      <th>O3</th>\n",
       "      <th>CO</th>\n",
       "    </tr>\n",
       "  </thead>\n",
       "  <tbody>\n",
       "    <tr>\n",
       "      <th>0</th>\n",
       "      <td>False</td>\n",
       "      <td>False</td>\n",
       "      <td>False</td>\n",
       "      <td>False</td>\n",
       "      <td>False</td>\n",
       "      <td>False</td>\n",
       "      <td>True</td>\n",
       "      <td>True</td>\n",
       "      <td>False</td>\n",
       "      <td>True</td>\n",
       "      <td>True</td>\n",
       "      <td>True</td>\n",
       "    </tr>\n",
       "    <tr>\n",
       "      <th>1</th>\n",
       "      <td>False</td>\n",
       "      <td>False</td>\n",
       "      <td>False</td>\n",
       "      <td>False</td>\n",
       "      <td>False</td>\n",
       "      <td>False</td>\n",
       "      <td>False</td>\n",
       "      <td>True</td>\n",
       "      <td>False</td>\n",
       "      <td>False</td>\n",
       "      <td>True</td>\n",
       "      <td>True</td>\n",
       "    </tr>\n",
       "    <tr>\n",
       "      <th>2</th>\n",
       "      <td>False</td>\n",
       "      <td>False</td>\n",
       "      <td>False</td>\n",
       "      <td>False</td>\n",
       "      <td>False</td>\n",
       "      <td>False</td>\n",
       "      <td>False</td>\n",
       "      <td>True</td>\n",
       "      <td>False</td>\n",
       "      <td>False</td>\n",
       "      <td>True</td>\n",
       "      <td>True</td>\n",
       "    </tr>\n",
       "    <tr>\n",
       "      <th>3</th>\n",
       "      <td>False</td>\n",
       "      <td>False</td>\n",
       "      <td>False</td>\n",
       "      <td>False</td>\n",
       "      <td>False</td>\n",
       "      <td>False</td>\n",
       "      <td>False</td>\n",
       "      <td>True</td>\n",
       "      <td>False</td>\n",
       "      <td>False</td>\n",
       "      <td>True</td>\n",
       "      <td>True</td>\n",
       "    </tr>\n",
       "    <tr>\n",
       "      <th>4</th>\n",
       "      <td>False</td>\n",
       "      <td>False</td>\n",
       "      <td>False</td>\n",
       "      <td>False</td>\n",
       "      <td>False</td>\n",
       "      <td>False</td>\n",
       "      <td>False</td>\n",
       "      <td>True</td>\n",
       "      <td>False</td>\n",
       "      <td>False</td>\n",
       "      <td>True</td>\n",
       "      <td>True</td>\n",
       "    </tr>\n",
       "  </tbody>\n",
       "</table>\n",
       "</div>"
      ],
      "text/plain": [
       "   CODIGO ESTACION  ESTACION    ANO    MES    DIA   HORA  PM 10  PM 2.5  \\\n",
       "0            False     False  False  False  False  False   True    True   \n",
       "1            False     False  False  False  False  False  False    True   \n",
       "2            False     False  False  False  False  False  False    True   \n",
       "3            False     False  False  False  False  False  False    True   \n",
       "4            False     False  False  False  False  False  False    True   \n",
       "\n",
       "     SO2    NO2    O3    CO  \n",
       "0  False   True  True  True  \n",
       "1  False  False  True  True  \n",
       "2  False  False  True  True  \n",
       "3  False  False  True  True  \n",
       "4  False  False  True  True  "
      ]
     },
     "execution_count": 17,
     "metadata": {},
     "output_type": "execute_result"
    }
   ],
   "source": [
    "# isnull() -> Genera un DataFrame del mismo tamaño que el original, donde cada celda contiene True si el valor es nulo (NaN)\n",
    "#             y False en caso contrario\n",
    "missing_values = df.isnull()\n",
    "missing_values.head()"
   ]
  },
  {
   "cell_type": "code",
   "execution_count": 41,
   "id": "952695ac-2055-4d57-b22c-263984a54436",
   "metadata": {},
   "outputs": [
    {
     "name": "stdout",
     "output_type": "stream",
     "text": [
      "CODIGO ESTACION         0\n",
      "ESTACION                0\n",
      "ANO                     0\n",
      "MES                     0\n",
      "DIA                     0\n",
      "HORA                    0\n",
      "PM 10              206372\n",
      "PM 2.5             363084\n",
      "SO2                408776\n",
      "NO2                351802\n",
      "O3                 354354\n",
      "CO                 381705\n",
      "dtype: int64\n"
     ]
    }
   ],
   "source": [
    "missing_values = df.isnull().sum()\n",
    "print(missing_values)"
   ]
  },
  {
   "cell_type": "markdown",
   "id": "22d0c136-1431-4e88-b661-cff08f3315a7",
   "metadata": {},
   "source": [
    "# ELIMINACIÓN DE COLUMNAS CON MUCHOS VALORES FALTANTES"
   ]
  },
  {
   "cell_type": "markdown",
   "id": "c0a6f0c9-9933-4d85-bba9-a46ef1877256",
   "metadata": {},
   "source": [
    "- ¿Qué significa eliminar columnas?\n",
    "  * Si una columna tiene un porcentaje muy alto en valores faltantes, puede que no aporte información útil al análisis y que mantenerla nos genere ruido en los datos. En ese tipo de casos es mejor eliminar la columna\n",
    "- ¿Por qué es importante?\n",
    "  * Mantener columnas con demasiados valores falantes puede sesgar los resultados y complicar el análisis posterior. Es mejor enfocarse en las columnas que aporten suficiente información\n",
    "- ¿Cuándo debemos hacerlo?\n",
    "  * Cuando una columna tiene más del 50-70% de valores faltantes del total de registros, generalmente no es útil mantenerla en el análisis"
   ]
  },
  {
   "cell_type": "code",
   "execution_count": 42,
   "id": "12965841-9b66-47fe-9433-0174068f6d36",
   "metadata": {},
   "outputs": [
    {
     "name": "stdout",
     "output_type": "stream",
     "text": [
      "CODIGO ESTACION     0.000000\n",
      "ESTACION            0.000000\n",
      "ANO                 0.000000\n",
      "MES                 0.000000\n",
      "DIA                 0.000000\n",
      "HORA                0.000000\n",
      "PM 10              29.353565\n",
      "PM 2.5             51.643681\n",
      "SO2                58.142737\n",
      "NO2                50.038973\n",
      "O3                 50.401959\n",
      "CO                 54.292261\n",
      "dtype: float64\n"
     ]
    }
   ],
   "source": [
    "# Calculamos el porcentaje de valores faltantes en cada columna\n",
    "missing_porcentages = df.isnull().mean() * 100\n",
    "print(missing_porcentages)"
   ]
  },
  {
   "cell_type": "code",
   "execution_count": 43,
   "id": "b25b4481-7c0c-4c22-b791-8a63bb508df2",
   "metadata": {},
   "outputs": [
    {
     "name": "stdout",
     "output_type": "stream",
     "text": [
      "Index(['SO2'], dtype='object')\n"
     ]
    }
   ],
   "source": [
    "# Definir un umbral de eliminación (58%)\n",
    "umbral = 58\n",
    "# columnas_eliminar = missing_porcentages[missing_porcentages>umbral] -> Muestra las columnas que superan el umbral y sus valores\n",
    "columnas_eliminar = missing_porcentages[missing_porcentages>umbral].index # -> Solo muestra las columnas que superan el umbral\n",
    "print(columnas_eliminar)"
   ]
  },
  {
   "cell_type": "code",
   "execution_count": 44,
   "id": "7536bb66-ee82-41ab-a0d7-f8dbb3032ef6",
   "metadata": {},
   "outputs": [
    {
     "data": {
      "text/html": [
       "<div>\n",
       "<style scoped>\n",
       "    .dataframe tbody tr th:only-of-type {\n",
       "        vertical-align: middle;\n",
       "    }\n",
       "\n",
       "    .dataframe tbody tr th {\n",
       "        vertical-align: top;\n",
       "    }\n",
       "\n",
       "    .dataframe thead th {\n",
       "        text-align: right;\n",
       "    }\n",
       "</style>\n",
       "<table border=\"1\" class=\"dataframe\">\n",
       "  <thead>\n",
       "    <tr style=\"text-align: right;\">\n",
       "      <th></th>\n",
       "      <th>CODIGO ESTACION</th>\n",
       "      <th>ESTACION</th>\n",
       "      <th>ANO</th>\n",
       "      <th>MES</th>\n",
       "      <th>DIA</th>\n",
       "      <th>HORA</th>\n",
       "      <th>PM 10</th>\n",
       "      <th>PM 2.5</th>\n",
       "      <th>NO2</th>\n",
       "      <th>O3</th>\n",
       "      <th>CO</th>\n",
       "    </tr>\n",
       "  </thead>\n",
       "  <tbody>\n",
       "    <tr>\n",
       "      <th>0</th>\n",
       "      <td>112192</td>\n",
       "      <td>ATE</td>\n",
       "      <td>2010</td>\n",
       "      <td>4</td>\n",
       "      <td>1</td>\n",
       "      <td>0</td>\n",
       "      <td>NaN</td>\n",
       "      <td>NaN</td>\n",
       "      <td>NaN</td>\n",
       "      <td>NaN</td>\n",
       "      <td>NaN</td>\n",
       "    </tr>\n",
       "    <tr>\n",
       "      <th>1</th>\n",
       "      <td>112192</td>\n",
       "      <td>ATE</td>\n",
       "      <td>2010</td>\n",
       "      <td>4</td>\n",
       "      <td>1</td>\n",
       "      <td>1</td>\n",
       "      <td>135.69</td>\n",
       "      <td>NaN</td>\n",
       "      <td>47.2</td>\n",
       "      <td>NaN</td>\n",
       "      <td>NaN</td>\n",
       "    </tr>\n",
       "    <tr>\n",
       "      <th>2</th>\n",
       "      <td>112192</td>\n",
       "      <td>ATE</td>\n",
       "      <td>2010</td>\n",
       "      <td>4</td>\n",
       "      <td>1</td>\n",
       "      <td>2</td>\n",
       "      <td>135.84</td>\n",
       "      <td>NaN</td>\n",
       "      <td>44.1</td>\n",
       "      <td>NaN</td>\n",
       "      <td>NaN</td>\n",
       "    </tr>\n",
       "    <tr>\n",
       "      <th>3</th>\n",
       "      <td>112192</td>\n",
       "      <td>ATE</td>\n",
       "      <td>2010</td>\n",
       "      <td>4</td>\n",
       "      <td>1</td>\n",
       "      <td>3</td>\n",
       "      <td>119.06</td>\n",
       "      <td>NaN</td>\n",
       "      <td>41.4</td>\n",
       "      <td>NaN</td>\n",
       "      <td>NaN</td>\n",
       "    </tr>\n",
       "    <tr>\n",
       "      <th>4</th>\n",
       "      <td>112192</td>\n",
       "      <td>ATE</td>\n",
       "      <td>2010</td>\n",
       "      <td>4</td>\n",
       "      <td>1</td>\n",
       "      <td>4</td>\n",
       "      <td>104.95</td>\n",
       "      <td>NaN</td>\n",
       "      <td>40.5</td>\n",
       "      <td>NaN</td>\n",
       "      <td>NaN</td>\n",
       "    </tr>\n",
       "  </tbody>\n",
       "</table>\n",
       "</div>"
      ],
      "text/plain": [
       "   CODIGO ESTACION ESTACION   ANO  MES  DIA  HORA   PM 10  PM 2.5   NO2  O3  \\\n",
       "0           112192      ATE  2010    4    1     0     NaN     NaN   NaN NaN   \n",
       "1           112192      ATE  2010    4    1     1  135.69     NaN  47.2 NaN   \n",
       "2           112192      ATE  2010    4    1     2  135.84     NaN  44.1 NaN   \n",
       "3           112192      ATE  2010    4    1     3  119.06     NaN  41.4 NaN   \n",
       "4           112192      ATE  2010    4    1     4  104.95     NaN  40.5 NaN   \n",
       "\n",
       "   CO  \n",
       "0 NaN  \n",
       "1 NaN  \n",
       "2 NaN  \n",
       "3 NaN  \n",
       "4 NaN  "
      ]
     },
     "execution_count": 44,
     "metadata": {},
     "output_type": "execute_result"
    }
   ],
   "source": [
    "# Eliminar las columnas que superen el umbral de valores faltantes especificado\n",
    "data_cleaned_step1 = df.drop(columns=columnas_eliminar)\n",
    "data_cleaned_step1.head()"
   ]
  },
  {
   "cell_type": "code",
   "execution_count": 45,
   "id": "067425fe-8079-45e6-a8a0-1f15caa6a8de",
   "metadata": {},
   "outputs": [
    {
     "name": "stdout",
     "output_type": "stream",
     "text": [
      "CODIGO ESTACION         0\n",
      "ESTACION                0\n",
      "ANO                     0\n",
      "MES                     0\n",
      "DIA                     0\n",
      "HORA                    0\n",
      "PM 10              206372\n",
      "PM 2.5             363084\n",
      "NO2                351802\n",
      "O3                 354354\n",
      "CO                 381705\n",
      "dtype: int64\n"
     ]
    }
   ],
   "source": [
    "missing_values_step1 = data_cleaned_step1.isnull().sum()\n",
    "print(missing_values_step1)"
   ]
  },
  {
   "cell_type": "markdown",
   "id": "3c033a4b-355d-446d-87f2-f453e0bcb04a",
   "metadata": {},
   "source": [
    "# ELIMINACIÓN DE FILAS CON DATOS CRÍTICOS FALTANTES"
   ]
  },
  {
   "cell_type": "markdown",
   "id": "64f06fbd-a28c-4cfa-a6ab-6401119c2636",
   "metadata": {},
   "source": [
    "- ¿Qué son los datos críticos?\n",
    "  * En un dataset, algunas variables son más importantes que otras. En este caso, los columnas relacionadas con contaminantes (PM10, PM2.5, NO2, O3) se consideran críticas porque son las variables clave del análisis\n",
    "- ¿Por qué es importante?\n",
    "  * Si una fila no tiene datos en ninguna de estas columnas críticas, esa fila aporta poco valor al análisis. Por lo tanto, eliminamos las filas que carecen completamente de información en estas columnas\n",
    "- ¿Cuándo debemos hacerlo?\n",
    "  * Debemos eliminar las filas cuando no contienen información crítica y los valores faltantes no pueden ser imputados (rellenados) de manera fiable"
   ]
  },
  {
   "cell_type": "code",
   "execution_count": 46,
   "id": "c21318c1-fdef-4f86-a154-afa7512d68bc",
   "metadata": {},
   "outputs": [],
   "source": [
    "# Definimos las columnas críticas\n",
    "columnas_criticas = ['PM 10', 'PM 2.5', 'NO2', 'O3', 'CO']"
   ]
  },
  {
   "cell_type": "code",
   "execution_count": 48,
   "id": "46f51405-f26c-4a34-84ea-13a3391671c9",
   "metadata": {},
   "outputs": [
    {
     "data": {
      "text/html": [
       "<div>\n",
       "<style scoped>\n",
       "    .dataframe tbody tr th:only-of-type {\n",
       "        vertical-align: middle;\n",
       "    }\n",
       "\n",
       "    .dataframe tbody tr th {\n",
       "        vertical-align: top;\n",
       "    }\n",
       "\n",
       "    .dataframe thead th {\n",
       "        text-align: right;\n",
       "    }\n",
       "</style>\n",
       "<table border=\"1\" class=\"dataframe\">\n",
       "  <thead>\n",
       "    <tr style=\"text-align: right;\">\n",
       "      <th></th>\n",
       "      <th>CODIGO ESTACION</th>\n",
       "      <th>ESTACION</th>\n",
       "      <th>ANO</th>\n",
       "      <th>MES</th>\n",
       "      <th>DIA</th>\n",
       "      <th>HORA</th>\n",
       "      <th>PM 10</th>\n",
       "      <th>PM 2.5</th>\n",
       "      <th>NO2</th>\n",
       "      <th>O3</th>\n",
       "      <th>CO</th>\n",
       "    </tr>\n",
       "  </thead>\n",
       "  <tbody>\n",
       "    <tr>\n",
       "      <th>1</th>\n",
       "      <td>112192</td>\n",
       "      <td>ATE</td>\n",
       "      <td>2010</td>\n",
       "      <td>4</td>\n",
       "      <td>1</td>\n",
       "      <td>1</td>\n",
       "      <td>135.69</td>\n",
       "      <td>NaN</td>\n",
       "      <td>47.2</td>\n",
       "      <td>NaN</td>\n",
       "      <td>NaN</td>\n",
       "    </tr>\n",
       "    <tr>\n",
       "      <th>2</th>\n",
       "      <td>112192</td>\n",
       "      <td>ATE</td>\n",
       "      <td>2010</td>\n",
       "      <td>4</td>\n",
       "      <td>1</td>\n",
       "      <td>2</td>\n",
       "      <td>135.84</td>\n",
       "      <td>NaN</td>\n",
       "      <td>44.1</td>\n",
       "      <td>NaN</td>\n",
       "      <td>NaN</td>\n",
       "    </tr>\n",
       "    <tr>\n",
       "      <th>3</th>\n",
       "      <td>112192</td>\n",
       "      <td>ATE</td>\n",
       "      <td>2010</td>\n",
       "      <td>4</td>\n",
       "      <td>1</td>\n",
       "      <td>3</td>\n",
       "      <td>119.06</td>\n",
       "      <td>NaN</td>\n",
       "      <td>41.4</td>\n",
       "      <td>NaN</td>\n",
       "      <td>NaN</td>\n",
       "    </tr>\n",
       "    <tr>\n",
       "      <th>4</th>\n",
       "      <td>112192</td>\n",
       "      <td>ATE</td>\n",
       "      <td>2010</td>\n",
       "      <td>4</td>\n",
       "      <td>1</td>\n",
       "      <td>4</td>\n",
       "      <td>104.95</td>\n",
       "      <td>NaN</td>\n",
       "      <td>40.5</td>\n",
       "      <td>NaN</td>\n",
       "      <td>NaN</td>\n",
       "    </tr>\n",
       "    <tr>\n",
       "      <th>5</th>\n",
       "      <td>112192</td>\n",
       "      <td>ATE</td>\n",
       "      <td>2010</td>\n",
       "      <td>4</td>\n",
       "      <td>1</td>\n",
       "      <td>5</td>\n",
       "      <td>84.92</td>\n",
       "      <td>NaN</td>\n",
       "      <td>39.0</td>\n",
       "      <td>NaN</td>\n",
       "      <td>NaN</td>\n",
       "    </tr>\n",
       "  </tbody>\n",
       "</table>\n",
       "</div>"
      ],
      "text/plain": [
       "   CODIGO ESTACION ESTACION   ANO  MES  DIA  HORA   PM 10  PM 2.5   NO2  O3  \\\n",
       "1           112192      ATE  2010    4    1     1  135.69     NaN  47.2 NaN   \n",
       "2           112192      ATE  2010    4    1     2  135.84     NaN  44.1 NaN   \n",
       "3           112192      ATE  2010    4    1     3  119.06     NaN  41.4 NaN   \n",
       "4           112192      ATE  2010    4    1     4  104.95     NaN  40.5 NaN   \n",
       "5           112192      ATE  2010    4    1     5   84.92     NaN  39.0 NaN   \n",
       "\n",
       "   CO  \n",
       "1 NaN  \n",
       "2 NaN  \n",
       "3 NaN  \n",
       "4 NaN  \n",
       "5 NaN  "
      ]
     },
     "execution_count": 48,
     "metadata": {},
     "output_type": "execute_result"
    }
   ],
   "source": [
    "# Eliminar las filas donde todas las columnas críticas tengan valores faltantes\n",
    "data_cleaned_step2 = data_cleaned_step1.dropna(subset=columnas_criticas, how='all')\n",
    "data_cleaned_step2.head()"
   ]
  },
  {
   "cell_type": "code",
   "execution_count": 50,
   "id": "033cad18-ea42-4402-91e3-4aa9769a5d84",
   "metadata": {},
   "outputs": [
    {
     "name": "stdout",
     "output_type": "stream",
     "text": [
      "CODIGO ESTACION         0\n",
      "ESTACION                0\n",
      "ANO                     0\n",
      "MES                     0\n",
      "DIA                     0\n",
      "HORA                    0\n",
      "PM 10               88196\n",
      "PM 2.5             244908\n",
      "NO2                233626\n",
      "O3                 236178\n",
      "CO                 263529\n",
      "dtype: int64\n"
     ]
    }
   ],
   "source": [
    "missing_values_step2 = data_cleaned_step2.isnull().sum()\n",
    "print(missing_values_step2)"
   ]
  },
  {
   "cell_type": "code",
   "execution_count": 52,
   "id": "651daf7b-2953-426d-8971-e3256019daad",
   "metadata": {},
   "outputs": [
    {
     "data": {
      "text/plain": [
       "(584880, 11)"
      ]
     },
     "execution_count": 52,
     "metadata": {},
     "output_type": "execute_result"
    }
   ],
   "source": [
    "data_cleaned_step2.shape"
   ]
  },
  {
   "cell_type": "markdown",
   "id": "e4f698e5-50af-40d8-93ac-a5be8ee9a498",
   "metadata": {},
   "source": [
    "- ¿Por qué es útil este enfoque?\n",
    "  * Precisión -> La eliminación de solo las filas que no aportan ninguna información relevante en las columnas mas importantes es necesaria para mantener la integridad del dataset (dataframe) a evaluar\n",
    "  * Conservación de Datos -> Este enfoque ejecutado es más conservador que eliminar filas de manera indiscrimnada. Estamos solo elimando aquellas columnas que son completamente inútiles para el análisis, y esto ayuda a preservar la mayor cantidad posible de información relevante"
   ]
  },
  {
   "cell_type": "markdown",
   "id": "af8c8c2c-3049-4caf-aa9b-f0d5a747b0fe",
   "metadata": {},
   "source": [
    "# INPUTACIÓN DE VALORES FALTANTES NUMÉRICOS"
   ]
  },
  {
   "cell_type": "markdown",
   "id": "2b90d065-348e-4d32-89d5-c0f72ddcc378",
   "metadata": {},
   "source": [
    "- ¿Qué es la imputación de valores faltantes?\n",
    "  * La imputación es el proceso de sustituir los valores faltantes en un dataset (dataframe) por valores estimados o calculados.\n",
    "  * Esto se hace con el fin de evitar eliminar filas completas y conservar la mayor cantidad de datos posibles\n",
    "- ¿Por qué es importante?\n",
    "  * Muchos algoritmos no pueden manejar valores faltantes, por lo que la imputación es crucial para asegurar que los modelos funcionen correctamente\n",
    "  * La mediana se utiliza en lugar de la media para la imputación cuando estamos frente a outliers.\n",
    "  * Se utilizaría la media si trabajaramos con valores atípicos muy altos o bajos, lo cual distorsiona la imputación\n",
    "- ¿Cuándo debemos aplicarlo?\n",
    "  * La imputación es apropiada cuando el porcentaje de valores faltantes es moderado (generalmente menos del 50%) y no queremos perder mucha información al eliminar filas o columnas"
   ]
  },
  {
   "cell_type": "code",
   "execution_count": 53,
   "id": "1b0e4a26-8892-4420-b1b3-f4f3126ea91d",
   "metadata": {
    "scrolled": true
   },
   "outputs": [
    {
     "name": "stdout",
     "output_type": "stream",
     "text": [
      "CODIGO ESTACION     0.000000\n",
      "ESTACION            0.000000\n",
      "ANO                 0.000000\n",
      "MES                 0.000000\n",
      "DIA                 0.000000\n",
      "HORA                0.000000\n",
      "PM 10              15.079333\n",
      "PM 2.5             41.873205\n",
      "NO2                39.944262\n",
      "O3                 40.380591\n",
      "CO                 45.056935\n",
      "dtype: float64\n"
     ]
    }
   ],
   "source": [
    "# Calculamos el porcentaje de valores faltantes en cada columna\n",
    "missing_porcentages_step3 = data_cleaned_step2.isnull().mean() * 100\n",
    "print(missing_porcentages_step3)"
   ]
  },
  {
   "cell_type": "code",
   "execution_count": 59,
   "id": "ebbbeb7b-ffaa-4cae-b148-b9d522fad002",
   "metadata": {},
   "outputs": [],
   "source": [
    "# IMPUTACIÓN CON LA MEDIANA\n",
    "columnas_numericas = ['PM 10', 'NO2', 'O3']"
   ]
  },
  {
   "cell_type": "code",
   "execution_count": 64,
   "id": "d2b996eb-277c-4908-9ec4-bc9891e14eec",
   "metadata": {},
   "outputs": [
    {
     "data": {
      "text/html": [
       "<div>\n",
       "<style scoped>\n",
       "    .dataframe tbody tr th:only-of-type {\n",
       "        vertical-align: middle;\n",
       "    }\n",
       "\n",
       "    .dataframe tbody tr th {\n",
       "        vertical-align: top;\n",
       "    }\n",
       "\n",
       "    .dataframe thead th {\n",
       "        text-align: right;\n",
       "    }\n",
       "</style>\n",
       "<table border=\"1\" class=\"dataframe\">\n",
       "  <thead>\n",
       "    <tr style=\"text-align: right;\">\n",
       "      <th></th>\n",
       "      <th>CODIGO ESTACION</th>\n",
       "      <th>ESTACION</th>\n",
       "      <th>ANO</th>\n",
       "      <th>MES</th>\n",
       "      <th>DIA</th>\n",
       "      <th>HORA</th>\n",
       "      <th>PM 10</th>\n",
       "      <th>PM 2.5</th>\n",
       "      <th>NO2</th>\n",
       "      <th>O3</th>\n",
       "      <th>CO</th>\n",
       "    </tr>\n",
       "  </thead>\n",
       "  <tbody>\n",
       "    <tr>\n",
       "      <th>1</th>\n",
       "      <td>112192</td>\n",
       "      <td>ATE</td>\n",
       "      <td>2010</td>\n",
       "      <td>4</td>\n",
       "      <td>1</td>\n",
       "      <td>1</td>\n",
       "      <td>135.69</td>\n",
       "      <td>NaN</td>\n",
       "      <td>47.2</td>\n",
       "      <td>NaN</td>\n",
       "      <td>NaN</td>\n",
       "    </tr>\n",
       "    <tr>\n",
       "      <th>2</th>\n",
       "      <td>112192</td>\n",
       "      <td>ATE</td>\n",
       "      <td>2010</td>\n",
       "      <td>4</td>\n",
       "      <td>1</td>\n",
       "      <td>2</td>\n",
       "      <td>135.84</td>\n",
       "      <td>NaN</td>\n",
       "      <td>44.1</td>\n",
       "      <td>NaN</td>\n",
       "      <td>NaN</td>\n",
       "    </tr>\n",
       "    <tr>\n",
       "      <th>3</th>\n",
       "      <td>112192</td>\n",
       "      <td>ATE</td>\n",
       "      <td>2010</td>\n",
       "      <td>4</td>\n",
       "      <td>1</td>\n",
       "      <td>3</td>\n",
       "      <td>119.06</td>\n",
       "      <td>NaN</td>\n",
       "      <td>41.4</td>\n",
       "      <td>NaN</td>\n",
       "      <td>NaN</td>\n",
       "    </tr>\n",
       "    <tr>\n",
       "      <th>4</th>\n",
       "      <td>112192</td>\n",
       "      <td>ATE</td>\n",
       "      <td>2010</td>\n",
       "      <td>4</td>\n",
       "      <td>1</td>\n",
       "      <td>4</td>\n",
       "      <td>104.95</td>\n",
       "      <td>NaN</td>\n",
       "      <td>40.5</td>\n",
       "      <td>NaN</td>\n",
       "      <td>NaN</td>\n",
       "    </tr>\n",
       "    <tr>\n",
       "      <th>5</th>\n",
       "      <td>112192</td>\n",
       "      <td>ATE</td>\n",
       "      <td>2010</td>\n",
       "      <td>4</td>\n",
       "      <td>1</td>\n",
       "      <td>5</td>\n",
       "      <td>84.92</td>\n",
       "      <td>NaN</td>\n",
       "      <td>39.0</td>\n",
       "      <td>NaN</td>\n",
       "      <td>NaN</td>\n",
       "    </tr>\n",
       "  </tbody>\n",
       "</table>\n",
       "</div>"
      ],
      "text/plain": [
       "   CODIGO ESTACION ESTACION   ANO  MES  DIA  HORA   PM 10  PM 2.5   NO2  O3  \\\n",
       "1           112192      ATE  2010    4    1     1  135.69     NaN  47.2 NaN   \n",
       "2           112192      ATE  2010    4    1     2  135.84     NaN  44.1 NaN   \n",
       "3           112192      ATE  2010    4    1     3  119.06     NaN  41.4 NaN   \n",
       "4           112192      ATE  2010    4    1     4  104.95     NaN  40.5 NaN   \n",
       "5           112192      ATE  2010    4    1     5   84.92     NaN  39.0 NaN   \n",
       "\n",
       "   CO  \n",
       "1 NaN  \n",
       "2 NaN  \n",
       "3 NaN  \n",
       "4 NaN  \n",
       "5 NaN  "
      ]
     },
     "execution_count": 64,
     "metadata": {},
     "output_type": "execute_result"
    }
   ],
   "source": [
    "# Hacemos una copia del Dataframe para preservar el dataframe del step2\n",
    "data_cleaned_step3 = data_cleaned_step2.copy()\n",
    "data_cleaned_step3.head()"
   ]
  },
  {
   "cell_type": "code",
   "execution_count": 66,
   "id": "5fa87bbc-0b22-482a-a0af-4391de9b7dbc",
   "metadata": {},
   "outputs": [
    {
     "name": "stdout",
     "output_type": "stream",
     "text": [
      "9.7\n"
     ]
    }
   ],
   "source": [
    "print(data_cleaned_step3['O3'].median())"
   ]
  },
  {
   "cell_type": "code",
   "execution_count": 67,
   "id": "5834a07c-75ff-46b2-b063-c9d505dfde9f",
   "metadata": {},
   "outputs": [],
   "source": [
    "for column in columnas_numericas:\n",
    "    data_cleaned_step3[column] = data_cleaned_step3[column].fillna(data_cleaned_step3[column].median())\n",
    "#   data_cleaned_step3['PM 10'] = data_cleaned_step3['PM 10'].fillna(data_cleaned_step3['PM 10'].median())\n",
    "#   x = x + x^2"
   ]
  },
  {
   "cell_type": "code",
   "execution_count": 68,
   "id": "8696c2eb-1be8-4f64-88f8-60f1a1c25fb6",
   "metadata": {},
   "outputs": [
    {
     "data": {
      "text/html": [
       "<div>\n",
       "<style scoped>\n",
       "    .dataframe tbody tr th:only-of-type {\n",
       "        vertical-align: middle;\n",
       "    }\n",
       "\n",
       "    .dataframe tbody tr th {\n",
       "        vertical-align: top;\n",
       "    }\n",
       "\n",
       "    .dataframe thead th {\n",
       "        text-align: right;\n",
       "    }\n",
       "</style>\n",
       "<table border=\"1\" class=\"dataframe\">\n",
       "  <thead>\n",
       "    <tr style=\"text-align: right;\">\n",
       "      <th></th>\n",
       "      <th>CODIGO ESTACION</th>\n",
       "      <th>ESTACION</th>\n",
       "      <th>ANO</th>\n",
       "      <th>MES</th>\n",
       "      <th>DIA</th>\n",
       "      <th>HORA</th>\n",
       "      <th>PM 10</th>\n",
       "      <th>PM 2.5</th>\n",
       "      <th>NO2</th>\n",
       "      <th>O3</th>\n",
       "      <th>CO</th>\n",
       "    </tr>\n",
       "  </thead>\n",
       "  <tbody>\n",
       "    <tr>\n",
       "      <th>1</th>\n",
       "      <td>112192</td>\n",
       "      <td>ATE</td>\n",
       "      <td>2010</td>\n",
       "      <td>4</td>\n",
       "      <td>1</td>\n",
       "      <td>1</td>\n",
       "      <td>135.69</td>\n",
       "      <td>NaN</td>\n",
       "      <td>47.2</td>\n",
       "      <td>9.7</td>\n",
       "      <td>NaN</td>\n",
       "    </tr>\n",
       "    <tr>\n",
       "      <th>2</th>\n",
       "      <td>112192</td>\n",
       "      <td>ATE</td>\n",
       "      <td>2010</td>\n",
       "      <td>4</td>\n",
       "      <td>1</td>\n",
       "      <td>2</td>\n",
       "      <td>135.84</td>\n",
       "      <td>NaN</td>\n",
       "      <td>44.1</td>\n",
       "      <td>9.7</td>\n",
       "      <td>NaN</td>\n",
       "    </tr>\n",
       "    <tr>\n",
       "      <th>3</th>\n",
       "      <td>112192</td>\n",
       "      <td>ATE</td>\n",
       "      <td>2010</td>\n",
       "      <td>4</td>\n",
       "      <td>1</td>\n",
       "      <td>3</td>\n",
       "      <td>119.06</td>\n",
       "      <td>NaN</td>\n",
       "      <td>41.4</td>\n",
       "      <td>9.7</td>\n",
       "      <td>NaN</td>\n",
       "    </tr>\n",
       "    <tr>\n",
       "      <th>4</th>\n",
       "      <td>112192</td>\n",
       "      <td>ATE</td>\n",
       "      <td>2010</td>\n",
       "      <td>4</td>\n",
       "      <td>1</td>\n",
       "      <td>4</td>\n",
       "      <td>104.95</td>\n",
       "      <td>NaN</td>\n",
       "      <td>40.5</td>\n",
       "      <td>9.7</td>\n",
       "      <td>NaN</td>\n",
       "    </tr>\n",
       "    <tr>\n",
       "      <th>5</th>\n",
       "      <td>112192</td>\n",
       "      <td>ATE</td>\n",
       "      <td>2010</td>\n",
       "      <td>4</td>\n",
       "      <td>1</td>\n",
       "      <td>5</td>\n",
       "      <td>84.92</td>\n",
       "      <td>NaN</td>\n",
       "      <td>39.0</td>\n",
       "      <td>9.7</td>\n",
       "      <td>NaN</td>\n",
       "    </tr>\n",
       "  </tbody>\n",
       "</table>\n",
       "</div>"
      ],
      "text/plain": [
       "   CODIGO ESTACION ESTACION   ANO  MES  DIA  HORA   PM 10  PM 2.5   NO2   O3  \\\n",
       "1           112192      ATE  2010    4    1     1  135.69     NaN  47.2  9.7   \n",
       "2           112192      ATE  2010    4    1     2  135.84     NaN  44.1  9.7   \n",
       "3           112192      ATE  2010    4    1     3  119.06     NaN  41.4  9.7   \n",
       "4           112192      ATE  2010    4    1     4  104.95     NaN  40.5  9.7   \n",
       "5           112192      ATE  2010    4    1     5   84.92     NaN  39.0  9.7   \n",
       "\n",
       "   CO  \n",
       "1 NaN  \n",
       "2 NaN  \n",
       "3 NaN  \n",
       "4 NaN  \n",
       "5 NaN  "
      ]
     },
     "execution_count": 68,
     "metadata": {},
     "output_type": "execute_result"
    }
   ],
   "source": [
    "data_cleaned_step3.head()"
   ]
  },
  {
   "cell_type": "code",
   "execution_count": 69,
   "id": "5e8926b0-4b93-4e57-a41c-17b816dbada8",
   "metadata": {},
   "outputs": [
    {
     "name": "stdout",
     "output_type": "stream",
     "text": [
      "9.7\n"
     ]
    }
   ],
   "source": [
    "print(data_cleaned_step3['O3'].median())"
   ]
  },
  {
   "cell_type": "markdown",
   "id": "bf11c40e-e67f-4a0a-abfd-d9139aaed163",
   "metadata": {},
   "source": [
    "- ¿Qué otras alternativas podríamos utilizar para la imputación?\n",
    "  * Media: Se usa cuando los datos tienen una distrubición normal (simétrica)\n",
    "  * Moda: Es útil para imputar variables categóricas\n",
    "  * Imputación basa en modelos: Se puede utilizar KNN (K-Nearest Neighbors) o regresión para imputar valores, donde los valores se predicen en función de otras variables"
   ]
  },
  {
   "cell_type": "code",
   "execution_count": null,
   "id": "733f714e-bec4-4a17-bfc1-d64f7c0a8529",
   "metadata": {},
   "outputs": [],
   "source": []
  }
 ],
 "metadata": {
  "kernelspec": {
   "display_name": "Python 3 (ipykernel)",
   "language": "python",
   "name": "python3"
  },
  "language_info": {
   "codemirror_mode": {
    "name": "ipython",
    "version": 3
   },
   "file_extension": ".py",
   "mimetype": "text/x-python",
   "name": "python",
   "nbconvert_exporter": "python",
   "pygments_lexer": "ipython3",
   "version": "3.12.4"
  }
 },
 "nbformat": 4,
 "nbformat_minor": 5
}
