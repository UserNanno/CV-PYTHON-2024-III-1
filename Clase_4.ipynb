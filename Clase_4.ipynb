{
 "cells": [
  {
   "cell_type": "code",
   "execution_count": 8,
   "id": "1e2f8d8e-6b1c-427f-8af2-a3474b22d66c",
   "metadata": {},
   "outputs": [],
   "source": [
    "import requests\n",
    "from lxml import html\n",
    "header_linux = { \"user-agent\": \"Mozilla/5.0 (X11; Linux x86_64) AppleWebKit/537.36 (KHTML, like Gecko) Ubuntu Chromium/71.0.3578.80 Chrome/71.0.3578.80 Safari/537.36\"}\n",
    "url = 'https://www.wikipedia.org/'\n",
    "res = requests.get(url, headers=header_linux)"
   ]
  },
  {
   "cell_type": "code",
   "execution_count": 17,
   "id": "df9e6b1f-7969-4966-84d1-1e10d4ead4b6",
   "metadata": {},
   "outputs": [],
   "source": [
    "res.encoding = 'utf-8'"
   ]
  },
  {
   "cell_type": "code",
   "execution_count": 18,
   "id": "7c86907d-d7d2-4593-9c13-d7a59be7cf46",
   "metadata": {},
   "outputs": [
    {
     "name": "stdout",
     "output_type": "stream",
     "text": [
      "\n",
      "Español\n",
      "1.974.000+ artículos\n",
      "\n"
     ]
    }
   ],
   "source": [
    "parser = html.fromstring(res.text) # Guarda el contenido en un árbol DOM (Document Object Model)\n",
    "var_1 = parser.get_element_by_id(\"js-link-box-es\")\n",
    "print(var_1.text_content())"
   ]
  },
  {
   "cell_type": "code",
   "execution_count": 19,
   "id": "43fde169-3251-4265-8d9f-08a100931856",
   "metadata": {},
   "outputs": [
    {
     "name": "stdout",
     "output_type": "stream",
     "text": [
      "['Español']\n"
     ]
    }
   ],
   "source": [
    "var2 = parser.xpath(\"//a[@id='js-link-box-es']/strong/text()\")\n",
    "print(var2)"
   ]
  },
  {
   "cell_type": "code",
   "execution_count": 20,
   "id": "0f734f78-1ac6-4d9b-8266-f2980b1c0e56",
   "metadata": {},
   "outputs": [
    {
     "name": "stdout",
     "output_type": "stream",
     "text": [
      "['English', '日本語', 'Русский', 'Español', 'Deutsch', 'Français', 'Italiano', '中文', 'Português']\n"
     ]
    }
   ],
   "source": [
    "var3 = parser.xpath(\"//div[contains(@class, 'central-featured-lang')]//strong/text()\")\n",
    "print(var3)"
   ]
  },
  {
   "cell_type": "code",
   "execution_count": 23,
   "id": "3d02cc92-da9d-4d18-a460-08f4022ce0b9",
   "metadata": {},
   "outputs": [
    {
     "name": "stdout",
     "output_type": "stream",
     "text": [
      "Datos Guardados Correctamente\n"
     ]
    }
   ],
   "source": [
    "import csv\n",
    "\n",
    "with open('idiomas_web_scraping.csv', mode='w', newline='', encoding='utf-8') as file:\n",
    "    writer = csv.writer(file)\n",
    "    writer.writerow(['Idioma'])\n",
    "    for idioma in var3:\n",
    "        writer.writerow([idioma])\n",
    "\n",
    "print(\"Datos Guardados Correctamente\")"
   ]
  },
  {
   "cell_type": "code",
   "execution_count": null,
   "id": "0b9719c8-36cd-48e1-b693-381a949e2ae1",
   "metadata": {},
   "outputs": [],
   "source": []
  }
 ],
 "metadata": {
  "kernelspec": {
   "display_name": "Python 3 (ipykernel)",
   "language": "python",
   "name": "python3"
  },
  "language_info": {
   "codemirror_mode": {
    "name": "ipython",
    "version": 3
   },
   "file_extension": ".py",
   "mimetype": "text/x-python",
   "name": "python",
   "nbconvert_exporter": "python",
   "pygments_lexer": "ipython3",
   "version": "3.12.4"
  }
 },
 "nbformat": 4,
 "nbformat_minor": 5
}
