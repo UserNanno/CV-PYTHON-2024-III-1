{
 "cells": [
  {
   "cell_type": "markdown",
   "id": "b8f762ca-019f-40f9-aba1-50d70113e515",
   "metadata": {},
   "source": [
    "-¿Qué deseo predecir? -> Define si nuestro problema es de regresión (predicción de valores continuos) o clasificación (asignar una categoría)"
   ]
  },
  {
   "cell_type": "markdown",
   "id": "a8cde30c-abd1-4d89-8395-b1ef72935a2e",
   "metadata": {},
   "source": [
    "- OPCIONES DE MODELOS DE MACHINE LEARNING\n",
    "  * Predicción de un solo contaminante (REGRESIÓN)\n",
    "    * Si deseamos predecir un contaminante en específico (PM 10)\n",
    "      * Regresión Lineal\n",
    "        - Ventaja: Simple y eficiente (relación lineal entre las variables)\n",
    "        - Desventaja: Puede tener un rendimiento limitado (las relaciones entre las variables no son lineales)\n",
    "      * Random Forest Regressor\n",
    "        - Ventaja: Modelo de árbol de diciones en conjunto, que maneja relaciones no lineales y caracteristicas correlacionales. Es robusto y fácil de interpretar\n",
    "        - Desventaja: Tiende a sobreajustarse en datasets pequeños, pero es efectiva en datasets más grandes\n",
    "      * Gradient Boosting Regressor (XGBoost o LightGBM)\n",
    "        - Ventaja: Muy similar a Random Forest pero tiene un enfoque a la mejora de la precisión a través de técnicas de boosting. Es de los modelas mas sobresalientes para los problemas de Regresión y Clasificación\n",
    "        - Desventaja: Requiere más ajuste de los hiperparámetros y es computacionalmente mas costoso\n",
    "      * Redes Neuronales Artificiales (ANN)\n",
    "        - Ventajas: Excelente para modelar relaciones complejas no lineales entre variables. Pueden captar patrones complejos que otros modelos no captan.\n",
    "        - Desventaja: Requiere mas recursos computacionales y es menos interpretable\n",
    "  * Predicción de varios contamientantes (REGRESIÓN MULTISALIDA)\n",
    "    - Random Forest con salida múltiple\n",
    "      * Ventaja: Puede adaptar un Random Forest para manejar multiples salidas\n",
    "      * Desventaja: Tiende a consumir mas memoria y tiempo de procesamiento\n",
    "    - MultiOutput Gradient Boosting\n",
    "    - Redes Neuronales con múltiples salidas\n",
    "\n",
    "  * Clasificación (Para categoriazar niveles de contaminación)\n",
    "    - Si quiero categorizar por rangos (\"bajo\", \"moderado\", \"alto\")\n",
    "      * Regresión Logística\n",
    "        - Ventaja: Simple, interpretable y eficiente para problemas linea de clasificación\n",
    "        - Desventaja: Limitado en problemas no lineales\n",
    "      * Support Vector Machine (SVM)\n",
    "        - Ventaja: Excelente para manejar tanto problemas lineales como no lineas de clasificación. Tiene buen rendimiento en datasets pequeños\n",
    "        - Desventaja: Escalabilidad para grandes dataset es demasiado costoso\n",
    "      * Random Forest Classifier:\n",
    "        - Ventaja: Alta precisión, interpretabilidad y capacidad de manejar grandes datasets\n",
    "        - Desventaja: Tiende a sobreajustarse si no se ajustan bien los hiperparámetros\n",
    "       \n",
    "    "
   ]
  },
  {
   "cell_type": "markdown",
   "id": "cd6831f9-8377-4ce4-8741-94156a2e8bc9",
   "metadata": {},
   "source": [
    "# IMPACTO DE LOS MODELOS "
   ]
  },
  {
   "cell_type": "code",
   "execution_count": null,
   "id": "7279e1a6-5682-4583-b165-d47ff0ae5f4c",
   "metadata": {},
   "outputs": [],
   "source": [
    "RANDOM FOREST\n"
   ]
  }
 ],
 "metadata": {
  "kernelspec": {
   "display_name": "Python 3 (ipykernel)",
   "language": "python",
   "name": "python3"
  },
  "language_info": {
   "codemirror_mode": {
    "name": "ipython",
    "version": 3
   },
   "file_extension": ".py",
   "mimetype": "text/x-python",
   "name": "python",
   "nbconvert_exporter": "python",
   "pygments_lexer": "ipython3",
   "version": "3.12.4"
  }
 },
 "nbformat": 4,
 "nbformat_minor": 5
}
