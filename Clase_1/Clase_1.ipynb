{
 "cells": [
  {
   "cell_type": "code",
   "execution_count": 10,
   "id": "04eec97e-8202-4acb-acb5-61bb1ce1aa58",
   "metadata": {},
   "outputs": [],
   "source": [
    "import numpy as np"
   ]
  },
  {
   "cell_type": "code",
   "execution_count": 13,
   "id": "682a64be-9192-4f70-a156-e61e71e41ce7",
   "metadata": {},
   "outputs": [
    {
     "name": "stdout",
     "output_type": "stream",
     "text": [
      "[1 2 3 4 5]\n"
     ]
    }
   ],
   "source": [
    "# UNIDIMENSIONAL\n",
    "array_1d = np.array([1,2,3,4,5])\n",
    "print(array_1d)"
   ]
  },
  {
   "cell_type": "code",
   "execution_count": 14,
   "id": "a8d535e3-63af-461d-a6cb-5512e3424241",
   "metadata": {},
   "outputs": [
    {
     "name": "stdout",
     "output_type": "stream",
     "text": [
      "[[1 2 3]\n",
      " [4 5 6]]\n"
     ]
    }
   ],
   "source": [
    "# BIDIMENSIONAL\n",
    "array_2d = np.array([[1,2,3], [4,5,6]])\n",
    "print(array_2d)"
   ]
  },
  {
   "cell_type": "code",
   "execution_count": 17,
   "id": "eeafc7cb-ce7f-4251-8e1b-082ef7e9439f",
   "metadata": {},
   "outputs": [
    {
     "name": "stdout",
     "output_type": "stream",
     "text": [
      "[[0. 0. 0. 0.]\n",
      " [0. 0. 0. 0.]\n",
      " [0. 0. 0. 0.]]\n"
     ]
    }
   ],
   "source": [
    "# Array de ceros\n",
    "zeros_array = np.zeros((3,4))\n",
    "print(zeros_array)"
   ]
  },
  {
   "cell_type": "code",
   "execution_count": 18,
   "id": "b2379f0b-ee10-434e-864b-0d2d722a463d",
   "metadata": {},
   "outputs": [
    {
     "name": "stdout",
     "output_type": "stream",
     "text": [
      "[[1. 1. 1.]\n",
      " [1. 1. 1.]]\n"
     ]
    }
   ],
   "source": [
    "# Array de unos\n",
    "ones_array = np.ones((2,3))\n",
    "print(ones_array)"
   ]
  },
  {
   "cell_type": "code",
   "execution_count": 20,
   "id": "7c350c4a-7102-4586-a51b-5a6c589e7921",
   "metadata": {},
   "outputs": [
    {
     "name": "stdout",
     "output_type": "stream",
     "text": [
      "[[0.42640612 0.88751652 0.59202774 0.6562922 ]\n",
      " [0.2360024  0.76058842 0.1861085  0.85066932]\n",
      " [0.28259501 0.70701688 0.9138009  0.34640257]\n",
      " [0.89774724 0.21321427 0.02880788 0.45184011]]\n"
     ]
    }
   ],
   "source": [
    "# Array con valores aleatorios\n",
    "random_array = np.random.rand(4,4)\n",
    "print(random_array)"
   ]
  },
  {
   "cell_type": "code",
   "execution_count": 21,
   "id": "547c8bb7-eca8-4bb8-b90f-fae6741d9440",
   "metadata": {},
   "outputs": [
    {
     "name": "stdout",
     "output_type": "stream",
     "text": [
      "[0 2 4 6 8]\n"
     ]
    }
   ],
   "source": [
    "# Array con una secuencia de numeros\n",
    "sequence_array = np.arange(0,10,2)\n",
    "print(sequence_array)"
   ]
  },
  {
   "cell_type": "code",
   "execution_count": 23,
   "id": "e7d5274f-4667-414c-8efe-9432baf336f7",
   "metadata": {},
   "outputs": [
    {
     "name": "stdout",
     "output_type": "stream",
     "text": [
      "[ 0.   2.5  5.   7.5 10. ]\n"
     ]
    }
   ],
   "source": [
    "# Array con valores igualmente espaciados\n",
    "linspace_array = np.linspace(0,10,5)\n",
    "print(linspace_array)"
   ]
  },
  {
   "cell_type": "code",
   "execution_count": 25,
   "id": "2d3edb6f-462f-46fa-9dc9-3ba6c51d8e99",
   "metadata": {},
   "outputs": [
    {
     "name": "stdout",
     "output_type": "stream",
     "text": [
      "1\n"
     ]
    }
   ],
   "source": [
    "# Accediendo a elementos de un vector 1D\n",
    "print(array_1d[0]) # Primer elementos"
   ]
  },
  {
   "cell_type": "code",
   "execution_count": 27,
   "id": "0c663f99-e1e9-46c4-9659-4f6cfcb2011d",
   "metadata": {},
   "outputs": [
    {
     "name": "stdout",
     "output_type": "stream",
     "text": [
      "5\n"
     ]
    }
   ],
   "source": [
    "# Accediendo a elementos de un vector\n",
    "print(array_1d[-1]) # Ultimo elemento"
   ]
  },
  {
   "cell_type": "code",
   "execution_count": 28,
   "id": "2bdf0519-9bf0-4161-b8bc-6b163c930bf1",
   "metadata": {},
   "outputs": [
    {
     "name": "stdout",
     "output_type": "stream",
     "text": [
      "2\n"
     ]
    }
   ],
   "source": [
    "# Accediendo a elementos de una matriz 2D\n",
    "print(array_2d[0, 1]) # "
   ]
  },
  {
   "cell_type": "code",
   "execution_count": 34,
   "id": "86ab996e-7e7f-442b-9ebc-29d33744451c",
   "metadata": {},
   "outputs": [
    {
     "name": "stdout",
     "output_type": "stream",
     "text": [
      "[3 4]\n"
     ]
    }
   ],
   "source": [
    "# Slicing de vector\n",
    "print(array_1d[2:4])"
   ]
  },
  {
   "cell_type": "code",
   "execution_count": 31,
   "id": "26e2e6df-42fb-4cd7-813e-546315abfa1c",
   "metadata": {},
   "outputs": [
    {
     "name": "stdout",
     "output_type": "stream",
     "text": [
      "[2 5]\n"
     ]
    }
   ],
   "source": [
    "# Slicing de matriz 2D\n",
    "print(array_2d[:, 1])"
   ]
  },
  {
   "cell_type": "code",
   "execution_count": 32,
   "id": "ce30755f-c646-485d-a68a-827123141021",
   "metadata": {},
   "outputs": [
    {
     "name": "stdout",
     "output_type": "stream",
     "text": [
      "[11 12 13 14 15]\n"
     ]
    }
   ],
   "source": [
    "# Suma de Arrays\n",
    "suma = array_1d + 10\n",
    "print(suma)"
   ]
  },
  {
   "cell_type": "code",
   "execution_count": 33,
   "id": "f5655c54-425c-47bf-a691-f6064bc2e583",
   "metadata": {},
   "outputs": [
    {
     "name": "stdout",
     "output_type": "stream",
     "text": [
      "[-1  0  1  2  3]\n"
     ]
    }
   ],
   "source": [
    "# Resta de Arrays\n",
    "resta = array_1d - 2\n",
    "print(resta)"
   ]
  },
  {
   "cell_type": "code",
   "execution_count": 35,
   "id": "79271c80-4a11-4727-a063-5e868a2796cd",
   "metadata": {},
   "outputs": [
    {
     "name": "stdout",
     "output_type": "stream",
     "text": [
      "[ 2  4  6  8 10]\n"
     ]
    }
   ],
   "source": [
    "# Multiplicacion de arrays\n",
    "multiplicacion = array_1d * 2\n",
    "print(multiplicacion)"
   ]
  },
  {
   "cell_type": "code",
   "execution_count": 36,
   "id": "2d2af747-67ef-4209-b953-3598975e983c",
   "metadata": {},
   "outputs": [
    {
     "name": "stdout",
     "output_type": "stream",
     "text": [
      "[0.5 1.  1.5 2.  2.5]\n"
     ]
    }
   ],
   "source": [
    "# Division de arrays\n",
    "division = array_1d / 2\n",
    "print(division)"
   ]
  },
  {
   "cell_type": "code",
   "execution_count": 37,
   "id": "b3507ebe-97c0-45cc-816c-291113f0f7f9",
   "metadata": {},
   "outputs": [
    {
     "name": "stdout",
     "output_type": "stream",
     "text": [
      "[6 6 6 6 6]\n"
     ]
    }
   ],
   "source": [
    "# OPERACIONES FUNDAMENTALES ENTRE ARRAYS\n",
    "array_1d_2 = np.array([5,4,3,2,1])\n",
    "elementwise_sum = array_1d + array_1d_2\n",
    "print(elementwise_sum)"
   ]
  },
  {
   "cell_type": "code",
   "execution_count": 40,
   "id": "5502d089-61ed-4c8f-b94b-ce7e3185d627",
   "metadata": {},
   "outputs": [
    {
     "name": "stdout",
     "output_type": "stream",
     "text": [
      "Resultado de sqrt 1.0\n",
      "Resultado de log 0.6931471805599453\n"
     ]
    }
   ],
   "source": [
    "# Funciones universales\n",
    "sqrt_array = np.sqrt(array_1d[0])\n",
    "log_array = np.log(array_1d[1])\n",
    "print(f\"Resultado de sqrt {sqrt_array}\")\n",
    "print(f\"Resultado de log {log_array}\")"
   ]
  },
  {
   "cell_type": "code",
   "execution_count": 42,
   "id": "1fdcde7d-322b-47ff-b0f7-5bc61f493575",
   "metadata": {},
   "outputs": [
    {
     "name": "stdout",
     "output_type": "stream",
     "text": [
      "[[1 2 3]\n",
      " [4 5 6]]\n",
      "Suma de arrays con diferente dimensionalidad [[2 4 6]\n",
      " [5 7 9]]\n"
     ]
    }
   ],
   "source": [
    "# Broadcasting\n",
    "array_2d = np.array([[1,2,3], [4,5,6]])\n",
    "print(array_2d)\n",
    "array_1d = np.array([1,2,3])\n",
    "broadcast_result = array_2d + array_1d\n",
    "print(f\"Suma de arrays con diferente dimensionalidad {broadcast_result}\")"
   ]
  },
  {
   "cell_type": "code",
   "execution_count": 44,
   "id": "554688bf-40be-4031-9850-9a98a8396aec",
   "metadata": {},
   "outputs": [
    {
     "name": "stdout",
     "output_type": "stream",
     "text": [
      "6\n"
     ]
    }
   ],
   "source": [
    "# Funciones y Operaciones avanzadas con arrays\n",
    "# FUNCIONES DE AGREGACION\n",
    "# SUMA DE TODOS LOS ELEMENTOS DEL ARRAY\n",
    "suma_total = np.sum(array_1d)\n",
    "print(suma_total)"
   ]
  },
  {
   "cell_type": "code",
   "execution_count": 45,
   "id": "f8108073-9e2a-4b22-abb9-3c3416740152",
   "metadata": {},
   "outputs": [
    {
     "name": "stdout",
     "output_type": "stream",
     "text": [
      "Media: 2.0\n",
      "Mediana: 2.0\n",
      "Desviacion estandar: 0.816496580927726\n"
     ]
    }
   ],
   "source": [
    "# Media, mediana y desviacion estandar\n",
    "media = np.mean(array_1d)\n",
    "mediana = np.median(array_1d)\n",
    "std_dev = np.std(array_1d)\n",
    "print(f\"Media: {media}\")\n",
    "print(f\"Mediana: {mediana}\")\n",
    "print(f\"Desviacion estandar: {std_dev}\")"
   ]
  },
  {
   "cell_type": "code",
   "execution_count": 51,
   "id": "53465481-bd48-478a-bd87-838c3d93925c",
   "metadata": {},
   "outputs": [
    {
     "name": "stdout",
     "output_type": "stream",
     "text": [
      "35\n"
     ]
    }
   ],
   "source": [
    "# Producto punto entre dos arrays de 1D\n",
    "array_1d = [1,2,3,4,5]\n",
    "dot_product = np.dot(array_1d, array_1d_2)\n",
    "print(dot_product)"
   ]
  },
  {
   "cell_type": "code",
   "execution_count": 52,
   "id": "afc8c4f6-2069-459b-a19b-86cdb609b41f",
   "metadata": {},
   "outputs": [
    {
     "name": "stdout",
     "output_type": "stream",
     "text": [
      "[ 1  2  3  4  5  6  7  8  9 10]\n"
     ]
    }
   ],
   "source": [
    "array_1 = np.arange(1,11)\n",
    "print(array_1)"
   ]
  },
  {
   "cell_type": "code",
   "execution_count": null,
   "id": "2a3861f3-ac7a-44c0-9149-2140fa42a8c9",
   "metadata": {},
   "outputs": [],
   "source": []
  }
 ],
 "metadata": {
  "kernelspec": {
   "display_name": "Python 3 (ipykernel)",
   "language": "python",
   "name": "python3"
  },
  "language_info": {
   "codemirror_mode": {
    "name": "ipython",
    "version": 3
   },
   "file_extension": ".py",
   "mimetype": "text/x-python",
   "name": "python",
   "nbconvert_exporter": "python",
   "pygments_lexer": "ipython3",
   "version": "3.12.3"
  }
 },
 "nbformat": 4,
 "nbformat_minor": 5
}
